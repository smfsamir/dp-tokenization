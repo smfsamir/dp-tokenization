{
 "cells": [
  {
   "cell_type": "code",
   "execution_count": 2,
   "metadata": {},
   "outputs": [],
   "source": [
    "import os\n",
    "from transformers import AutoModelForCausalLM, AutoTokenizer, WhisperTokenizer\n",
    "\n",
    "# create a dir called hf_cache in the current directory\n",
    "os.makedirs(\"hf_cache\", exist_ok=True)\n",
    "tokenizer = AutoTokenizer.from_pretrained(\"bigscience/bloom-3b\", cache_dir=\"hf_cache\", use_fast=False)"
   ]
  },
  {
   "cell_type": "code",
   "execution_count": 6,
   "metadata": {},
   "outputs": [
    {
     "data": {
      "text/plain": [
       "['Hello', 'Ġthere']"
      ]
     },
     "execution_count": 6,
     "metadata": {},
     "output_type": "execute_result"
    }
   ],
   "source": [
    "tokenizer.convert_ids_to_tokens(tokenizer.encode(\"Hello there\"))\n",
    "# Ġhere. <-- word initial. (Here)\n",
    "# here <-- (internal, e.g., there)\n"
   ]
  },
  {
   "cell_type": "code",
   "execution_count": 4,
   "metadata": {},
   "outputs": [
    {
     "data": {
      "text/plain": [
       "[('How', (0, 3)),\n",
       " ('Ġare', (3, 7)),\n",
       " ('Ġyou', (7, 11)),\n",
       " ('Ġdoing', (11, 17)),\n",
       " ('?', (17, 18))]"
      ]
     },
     "execution_count": 4,
     "metadata": {},
     "output_type": "execute_result"
    }
   ],
   "source": [
    "#i tried bloomtok._tokenizer.pre_tokenizer.pre_tokenize_str(\"ትግርኛ\") with Tigrinya text. and it gave me [('áīµáĮįáĪŃáĬĽ', (0, 4))]  which is a sequence longer than the input, so I'm guessing its bytes. Also, when I tokenize it, i get this:\n",
    "tokenizer._tokenizer.pre_tokenizer.pre_tokenize_str(\"How are you doing?\")"
   ]
  },
  {
   "cell_type": "code",
   "execution_count": 2,
   "metadata": {},
   "outputs": [
    {
     "name": "stderr",
     "output_type": "stream",
     "text": [
      "Downloading tokenizer_config.json: 100%|██████████| 833/833 [00:00<00:00, 131kB/s]\n",
      "Downloading tokenizer.json: 100%|██████████| 16.3M/16.3M [00:00<00:00, 31.3MB/s]\n"
     ]
    }
   ],
   "source": [
    "checkpoint = \"CohereForAI/aya-101\"\n",
    "aya_tokenizer = AutoTokenizer.from_pretrained(checkpoint, cache_dir=\"hf_cache\")\n"
   ]
  },
  {
   "cell_type": "code",
   "execution_count": 4,
   "metadata": {},
   "outputs": [],
   "source": [
    "bloom_vocab = tokenizer.get_vocab()"
   ]
  },
  {
   "cell_type": "code",
   "execution_count": 6,
   "metadata": {},
   "outputs": [],
   "source": [
    "t2i = tokenizer.convert_tokens_to_ids\n",
    "i2t = tokenizer.convert_ids_to_tokens"
   ]
  },
  {
   "cell_type": "code",
   "execution_count": 7,
   "metadata": {},
   "outputs": [],
   "source": [
    "# count the number of tokens in the vocabulary\n",
    "import polars as pl\n",
    "import pandas as pd"
   ]
  },
  {
   "cell_type": "code",
   "execution_count": 8,
   "metadata": {},
   "outputs": [],
   "source": [
    "frame = pl.from_pandas(pd.read_csv(\"madar_lexicon.tsv\", sep='\\t'))"
   ]
  },
  {
   "cell_type": "code",
   "execution_count": 67,
   "metadata": {},
   "outputs": [
    {
     "name": "stdout",
     "output_type": "stream",
     "text": [
      "47721\n",
      "2959\n"
     ]
    },
    {
     "name": "stderr",
     "output_type": "stream",
     "text": [
      "/var/folders/4s/lb1vnqls41q48r0glrfkkhnm0000gn/T/ipykernel_73431/1317458516.py:6: DeprecationWarning: `apply` is deprecated. It has been renamed to `map_elements`.\n",
      "  plt.hist(frame['CODA'].apply(len))\n"
     ]
    },
    {
     "data": {
      "text/plain": [
       "(array([2.7400e+03, 2.8449e+04, 1.1942e+04, 2.5090e+03, 5.6000e+02,\n",
       "        7.1700e+02, 6.2800e+02, 1.4400e+02, 2.0000e+01, 1.2000e+01]),\n",
       " array([ 1. ,  2.8,  4.6,  6.4,  8.2, 10. , 11.8, 13.6, 15.4, 17.2, 19. ]),\n",
       " <BarContainer object of 10 artists>)"
      ]
     },
     "execution_count": 67,
     "metadata": {},
     "output_type": "execute_result"
    },
    {
     "data": {
      "image/png": "[encoded data removed]",
      "text/plain": [
       "<Figure size 640x480 with 1 Axes>"
      ]
     },
     "metadata": {},
     "output_type": "display_data"
    }
   ],
   "source": [
    "import matplotlib.pyplot as plt\n",
    "# import seaborn as sns\n",
    "print(len(frame))\n",
    "# print the number of entries with length 5 or greater\n",
    "print(len(frame.filter(pl.col('CODA').str.len_chars() >= 8)))\n",
    "plt.hist(frame['CODA'].apply(len))\n",
    "# print(frame['CODA'].apply(len))"
   ]
  },
  {
   "cell_type": "code",
   "execution_count": 9,
   "metadata": {},
   "outputs": [],
   "source": [
    "from typing import Dict\n",
    "import json\n",
    "def get_merge_list(tokenizer_json_fname: str):\n",
    "    with open(tokenizer_json_fname, 'r') as f:\n",
    "        tokenizer_json = json.load(f)\n",
    "        merges = tokenizer_json['model']['merges']\n",
    "        return merges\n",
    "    \n",
    "def get_token_to_index_map(tokenizer_json_fname) -> Dict[str, int]:\n",
    "    with open(tokenizer_json_fname, 'r') as f:\n",
    "        tokenizer_json = json.load(f)\n",
    "        vocab = tokenizer_json['model']['vocab']\n",
    "        return {token: index for index, token in enumerate(vocab)}\n",
    "\n",
    "    \n",
    "tokenizer_json_fname = \"hf_cache/models--bigscience--bloom-3b/snapshots/52bc5b43010b4844513826b8be3f78c7344c37d7/tokenizer.json\"\n",
    "merge_list = get_merge_list(tokenizer_json_fname)\n",
    "vocab_to_index = get_token_to_index_map(tokenizer_json_fname)"
   ]
  },
  {
   "cell_type": "code",
   "execution_count": 10,
   "metadata": {},
   "outputs": [
    {
     "name": "stdout",
     "output_type": "stream",
     "text": [
      "[[101490], [130, 101], [97104], [196880], [97104], [6933], [101490], [130, 104]]\n"
     ]
    },
    {
     "data": {
      "text/plain": [
       "'ÙĤØ¯Ø§Ùħ'"
      ]
     },
     "execution_count": 10,
     "metadata": {},
     "output_type": "execute_result"
    }
   ],
   "source": [
    "def get_base_encoding(input_str: str): \n",
    "    input_bytes = input_str.encode(\"utf-8\")\n",
    "    input_strs = [whisper_tokenizer.byte_encoder[byte] for byte in input_bytes]\n",
    "    input_tokens = [tokenizer.encode(s) for s in input_strs]\n",
    "    print(input_tokens)\n",
    "    # assert all(len(tokens) == 1 for tokens in input_tokens)\n",
    "    # flatten the input tokens list and return it\n",
    "    base_encoded_tokens = []\n",
    "    for tokens in input_tokens:\n",
    "        base_encoded_tokens.extend(tokens)\n",
    "    return base_encoded_tokens\n",
    "\n",
    "encoded = get_base_encoding(\"قدام\")\n",
    "decoded = tokenizer.decode(encoded)\n",
    "decoded"
   ]
  },
  {
   "cell_type": "code",
   "execution_count": 12,
   "metadata": {},
   "outputs": [],
   "source": [
    "from typing import Dict, List\n",
    "\n",
    "def unwind_to_base_tokenization(input_str: str, vocab_token_to_index: Dict[str, int], vocab_merges: List[str],\n",
    "                                tokenizer) -> List[int]: \n",
    "    \"\"\"\n",
    "    Params:\n",
    "        input_str (str): String to get the base tokenization for.\n",
    "        vocab_token_to_index (Dict[str, int]): Mapping from token to index in the vocabulary.\n",
    "        vocab_merges (List[str]): List of merges in the vocabulary. Of the form \"a b\" where a and b are tokens.\n",
    "        tokenizer: Huggingface tokenizer object.\n",
    "    \"\"\"\n",
    "    encoding = tokenizer.encode(input_str) # List[int]\n",
    "    # create an object token_to_source_merge. This will be a dictionary that maps a token (str) to the merge that created it (Tuple[str,str]).\n",
    "    token_to_source_merge = {}\n",
    "    for merge in vocab_merges:\n",
    "        a, b = merge.split()\n",
    "        token_to_source_merge[a + b] = (a, b)\n",
    "    base_tokens = []\n",
    "\n",
    "    def decompose(token: str) -> List[int]:\n",
    "        if token in token_to_source_merge:\n",
    "            a, b = token_to_source_merge[token]\n",
    "            return decompose(a) + decompose(b) \n",
    "        else:\n",
    "            # base token\n",
    "            return [vocab_token_to_index[token]]\n",
    "\n",
    "    base_tokens = []\n",
    "    for token_ind in encoding:\n",
    "        token = tokenizer.convert_ids_to_tokens([token_ind])[0]\n",
    "        base_tokens.extend(decompose(token))\n",
    "    return base_tokens"
   ]
  },
  {
   "cell_type": "code",
   "execution_count": 13,
   "metadata": {},
   "outputs": [],
   "source": [
    "from typing import List, Set\n",
    "def min_tokens_for_string(base_representation_s: List[str], vocabulary: Set[str]):\n",
    "    n = len(base_representation_s)\n",
    "    dp = [float('inf')] * (n + 1)\n",
    "    dp[0] = 0  # Base case: empty string\n",
    "    \n",
    "    def _get_concatenation(slice: List[str]):\n",
    "        return \"\".join(slice)\n",
    "\n",
    "    for i in range(1, n + 1):\n",
    "        for j in range(i):\n",
    "            if _get_concatenation(base_representation_s[j:i]) in vocabulary:\n",
    "                dp[i] = min(dp[i], dp[j] + 1)\n",
    "    return dp[n]\n",
    "\n",
    "\n",
    "#unwind_to_base_tokenization(\"hello\", vocab_to_index, merge_list, tokenizer)\n",
    "# token_inds = unwind_to_base_tokenization(\"قدام\", vocab_to_index, merge_list, tokenizer)\n"
   ]
  },
  {
   "cell_type": "code",
   "execution_count": 14,
   "metadata": {},
   "outputs": [],
   "source": [
    "def compute_min_tokenization(input_str):\n",
    "    token_inds = unwind_to_base_tokenization(input_str, vocab_to_index, merge_list, tokenizer)\n",
    "    tokens = tokenizer.convert_ids_to_tokens(token_inds)\n",
    "    return min_tokens_for_string(tokens, bloom_vocab)\n",
    "\n",
    "def compute_default_tokenization_length(input_str):\n",
    "    return len(tokenizer.encode(input_str))\n"
   ]
  },
  {
   "cell_type": "code",
   "execution_count": 16,
   "metadata": {},
   "outputs": [
    {
     "data": {
      "text/html": [
       "<div><style>\n",
       ".dataframe > thead > tr > th,\n",
       ".dataframe > tbody > tr > td {\n",
       "  text-align: right;\n",
       "  white-space: pre-wrap;\n",
       "}\n",
       "</style>\n",
       "<small>shape: (30, 16)</small><table border=\"1\" class=\"dataframe\"><thead><tr><th>ID</th><th>Concept_ID</th><th>Class</th><th>English</th><th>French</th><th>MSA</th><th>Dialect</th><th>Example</th><th>En_lemma_POS</th><th>Fr_lemma_POS</th><th>MSA_lemma_POS</th><th>CODA</th><th>Tokenization</th><th>CAPHI</th><th>Release Status</th><th>Release Note</th></tr><tr><td>i64</td><td>str</td><td>str</td><td>str</td><td>str</td><td>str</td><td>str</td><td>str</td><td>str</td><td>str</td><td>str</td><td>str</td><td>str</td><td>str</td><td>str</td><td>str</td></tr></thead><tbody><tr><td>15562</td><td>&quot;379&quot;</td><td>&quot;OpenClass&quot;</td><td>&quot;mistake&quot;</td><td>&quot;erreur&quot;</td><td>&quot;خَطَأ&quot;</td><td>&quot;ASW&quot;</td><td>null</td><td>&quot;mistake_NOUN&quot;</td><td>&quot;erreur_NOUN&quot;</td><td>&quot;xaTaO_NOUN&quot;</td><td>&quot;زلة&quot;</td><td>&quot;زلة&quot;</td><td>&quot;z a l l a&quot;</td><td>&quot;READY&quot;</td><td>null</td></tr><tr><td>43284</td><td>&quot;1230&quot;</td><td>&quot;OpenClass&quot;</td><td>&quot;right away&quot;</td><td>&quot;immédiatement&quot;</td><td>&quot;حالاً&quot;</td><td>&quot;AMM&quot;</td><td>null</td><td>&quot;right_ADV away…</td><td>&quot;immédiatement_…</td><td>&quot;HAl_NOUN&quot;</td><td>&quot;رأسا&quot;</td><td>&quot;رأسا&quot;</td><td>&quot;r a 2 s a n&quot;</td><td>&quot;READY&quot;</td><td>null</td></tr><tr><td>46090</td><td>&quot;1294&quot;</td><td>&quot;OpenClass&quot;</td><td>&quot;miss&quot;</td><td>&quot;mademoiselle&quot;</td><td>&quot;آنِسَة&quot;</td><td>&quot;ALX&quot;</td><td>null</td><td>&quot;miss_PROPN&quot;</td><td>&quot;mademoiselle_P…</td><td>&quot;Mnisap_NOUN&quot;</td><td>&quot;آنسة&quot;</td><td>&quot;آنسة&quot;</td><td>&quot;2 aa n i s a&quot;</td><td>&quot;CHECK&quot;</td><td>null</td></tr><tr><td>355</td><td>&quot;12&quot;</td><td>&quot;OpenClass&quot;</td><td>&quot;insurance&quot;</td><td>&quot;assurance&quot;</td><td>&quot;تَأْمِين&quot;</td><td>&quot;ASW&quot;</td><td>null</td><td>&quot;insurance_NOUN…</td><td>&quot;assurance_NOUN…</td><td>&quot;taOomiyn_NOUN&quot;</td><td>&quot;تأمين&quot;</td><td>&quot;تأمين&quot;</td><td>&quot;t a 2 m ii n&quot;</td><td>&quot;READY&quot;</td><td>null</td></tr><tr><td>14642</td><td>&quot;359&quot;</td><td>&quot;OpenClass&quot;</td><td>&quot;bank&quot;</td><td>&quot;banque&quot;</td><td>&quot;بَنْك&quot;</td><td>&quot;ALX&quot;</td><td>null</td><td>&quot;bank_NOUN&quot;</td><td>&quot;banque_NOUN&quot;</td><td>&quot;banok_NOUN&quot;</td><td>&quot;بنك&quot;</td><td>&quot;بنك&quot;</td><td>&quot;b a n k&quot;</td><td>&quot;CHECK&quot;</td><td>&quot;Foreign&quot;</td></tr><tr><td>8431</td><td>&quot;225&quot;</td><td>&quot;OpenClass&quot;</td><td>&quot;product&quot;</td><td>&quot;produit&quot;</td><td>&quot;مُنْتَج&quot;</td><td>&quot;DOH&quot;</td><td>null</td><td>&quot;product_NOUN&quot;</td><td>&quot;produit_NOUN&quot;</td><td>&quot;munotaj_NOUN&quot;</td><td>&quot;انتاج&quot;</td><td>&quot;انتاج&quot;</td><td>&quot;2 e n t aa dj&quot;</td><td>&quot;READY&quot;</td><td>null</td></tr><tr><td>20431</td><td>&quot;482&quot;</td><td>&quot;OpenClass&quot;</td><td>&quot;discount&quot;</td><td>&quot;remise&quot;</td><td>&quot;خَصْم&quot;</td><td>&quot;RIY&quot;</td><td>null</td><td>&quot;discount_NOUN&quot;</td><td>&quot;remise_NOUN&quot;</td><td>&quot;xaSom_NOUN&quot;</td><td>&quot;خصم&quot;</td><td>&quot;خصم&quot;</td><td>&quot;kh a s. m&quot;</td><td>&quot;READY&quot;</td><td>null</td></tr><tr><td>20092</td><td>&quot;474&quot;</td><td>&quot;OpenClass&quot;</td><td>&quot;house&quot;</td><td>&quot;maison&quot;</td><td>&quot;مَنْزِل&quot;</td><td>&quot;KHA&quot;</td><td>null</td><td>&quot;house_NOUN&quot;</td><td>&quot;maison_NOUN&quot;</td><td>&quot;manozil_NOUN&quot;</td><td>&quot;بيت&quot;</td><td>&quot;بيت&quot;</td><td>&quot;b ee t&quot;</td><td>&quot;READY&quot;</td><td>null</td></tr><tr><td>4850</td><td>&quot;145&quot;</td><td>&quot;OpenClass&quot;</td><td>&quot;breakfast&quot;</td><td>&quot;petit déjeuner…</td><td>&quot;إِفْطار&quot;</td><td>&quot;SAL&quot;</td><td>null</td><td>&quot;breakfast_NOUN…</td><td>&quot;petit_ADJ déje…</td><td>&quot;IifoTAr_NOUN&quot;</td><td>&quot;فطور&quot;</td><td>&quot;فطور&quot;</td><td>&quot;f a t. uu r&quot;</td><td>&quot;READY&quot;</td><td>null</td></tr><tr><td>28979</td><td>&quot;PREP_027&quot;</td><td>&quot;ClosedClass&quot;</td><td>&quot;by&quot;</td><td>&quot;par&quot;</td><td>&quot;بِ+&quot;</td><td>&quot;DOH&quot;</td><td>null</td><td>&quot;by_ADP&quot;</td><td>&quot;par_ADP&quot;</td><td>&quot;bi+_ADP&quot;</td><td>&quot;ب+&quot;</td><td>&quot;ب+&quot;</td><td>&quot;b e&quot;</td><td>&quot;READY&quot;</td><td>null</td></tr><tr><td>5495</td><td>&quot;162&quot;</td><td>&quot;OpenClass&quot;</td><td>&quot;bread&quot;</td><td>&quot;pain&quot;</td><td>&quot;خُبْز&quot;</td><td>&quot;BEI&quot;</td><td>null</td><td>&quot;bread_NOUN&quot;</td><td>&quot;pain_NOUN&quot;</td><td>&quot;xuboz_NOUN&quot;</td><td>&quot;رغيف&quot;</td><td>&quot;رغيف&quot;</td><td>&quot;r gh ii f&quot;</td><td>&quot;READY&quot;</td><td>null</td></tr><tr><td>16161</td><td>&quot;392&quot;</td><td>&quot;OpenClass&quot;</td><td>&quot;tourism&quot;</td><td>&quot;tourisme&quot;</td><td>&quot;سِياحَة&quot;</td><td>&quot;DAM&quot;</td><td>null</td><td>&quot;sightseeing_NO…</td><td>&quot;tourisme_NOUN&quot;</td><td>&quot;siyAHap_NOUN&quot;</td><td>&quot;فرجة عالمناظر&quot;</td><td>&quot;فرجة ع+ المناظ…</td><td>&quot;f i r j e # 3 …</td><td>&quot;READY&quot;</td><td>null</td></tr><tr><td>&hellip;</td><td>&hellip;</td><td>&hellip;</td><td>&hellip;</td><td>&hellip;</td><td>&hellip;</td><td>&hellip;</td><td>&hellip;</td><td>&hellip;</td><td>&hellip;</td><td>&hellip;</td><td>&hellip;</td><td>&hellip;</td><td>&hellip;</td><td>&hellip;</td><td>&hellip;</td></tr><tr><td>41714</td><td>&quot;1169&quot;</td><td>&quot;OpenClass&quot;</td><td>&quot;matter&quot;</td><td>&quot;sujet&quot;</td><td>&quot;أَمْر&quot;</td><td>&quot;SAN&quot;</td><td>null</td><td>&quot;matter_NOUN&quot;</td><td>&quot;sujet_NOUN&quot;</td><td>&quot;Oamor_NOUN&quot;</td><td>&quot;حكاية&quot;</td><td>&quot;حكاية&quot;</td><td>&quot;7 i k aa y e&quot;</td><td>&quot;READY&quot;</td><td>null</td></tr><tr><td>12475</td><td>&quot;311&quot;</td><td>&quot;MixedClass&quot;</td><td>&quot;price tag&quot;</td><td>&quot;étiquette de p…</td><td>&quot;بِطاقَة ال+ سِ…</td><td>&quot;DAM&quot;</td><td>null</td><td>&quot;price_NOUN tag…</td><td>&quot;étiquette_NOUN…</td><td>&quot;biTAqap_NOUN A…</td><td>&quot;كرت السعر&quot;</td><td>&quot;كرت السعر&quot;</td><td>&quot;k a r t # i l …</td><td>&quot;CHECK&quot;</td><td>&quot;Foreign&quot;</td></tr><tr><td>40642</td><td>&quot;1146&quot;</td><td>&quot;MixedClass&quot;</td><td>&quot;iron&quot;</td><td>&quot;fer à repasser…</td><td>&quot;مِكْواة&quot;</td><td>&quot;BAS&quot;</td><td>null</td><td>&quot;iron_NOUN&quot;</td><td>&quot;fer_NOUN à_ADP…</td><td>&quot;mikowAp_NOUN&quot;</td><td>&quot;اوتي&quot;</td><td>&quot;اوتي&quot;</td><td>&quot;2 uu t i&quot;</td><td>&quot;CHECK&quot;</td><td>&quot;Foreign&quot;</td></tr><tr><td>14700</td><td>&quot;360&quot;</td><td>&quot;OpenClass&quot;</td><td>&quot;see&quot;</td><td>&quot;voir&quot;</td><td>&quot;رَأَى&quot;</td><td>&quot;ALX&quot;</td><td>null</td><td>&quot;see_VERB&quot;</td><td>&quot;voir_VERB&quot;</td><td>&quot;raOaY_VERB&quot;</td><td>&quot;شاف&quot;</td><td>&quot;شاف&quot;</td><td>&quot;sh aa f&quot;</td><td>&quot;READY&quot;</td><td>null</td></tr><tr><td>4793</td><td>&quot;142&quot;</td><td>&quot;OpenClass&quot;</td><td>&quot;entrance&quot;</td><td>&quot;entrée&quot;</td><td>&quot;مَدْخَل&quot;</td><td>&quot;TRI&quot;</td><td>null</td><td>&quot;entrance_NOUN&quot;</td><td>&quot;entrée_NOUN&quot;</td><td>&quot;madoxal_NOUN&quot;</td><td>&quot;مدخل&quot;</td><td>&quot;مدخل&quot;</td><td>&quot;m a d kh a l&quot;</td><td>&quot;READY&quot;</td><td>null</td></tr><tr><td>32303</td><td>&quot;PRON_042&quot;</td><td>&quot;MixedClass&quot;</td><td>&quot;yourself&quot;</td><td>&quot;vous-même&quot;</td><td>&quot;نَفْس +كُنَّ&quot;</td><td>&quot;RAB&quot;</td><td>&quot;أنفسكن&quot;</td><td>&quot;yourself_PRON&quot;</td><td>&quot;vous-même_PRON…</td><td>&quot;nafos_NOUN +ku…</td><td>&quot;نيت&quot;</td><td>&quot;نيت&quot;</td><td>&quot;n n ii t&quot;</td><td>&quot;CHECK&quot;</td><td>null</td></tr><tr><td>19878</td><td>&quot;467&quot;</td><td>&quot;OpenClass&quot;</td><td>&quot;mean&quot;</td><td>&quot;vouloir dire&quot;</td><td>&quot;عَنَى&quot;</td><td>&quot;JED&quot;</td><td>null</td><td>&quot;mean_VERB&quot;</td><td>&quot;vouloir_VERB d…</td><td>&quot;EanaY_VERB&quot;</td><td>&quot;قصد&quot;</td><td>&quot;قصد&quot;</td><td>&quot;q a s. a d&quot;</td><td>&quot;READY&quot;</td><td>null</td></tr><tr><td>4598</td><td>&quot;137&quot;</td><td>&quot;OpenClass&quot;</td><td>&quot;decide&quot;</td><td>&quot;décider&quot;</td><td>&quot;قَرَّر&quot;</td><td>&quot;AMM&quot;</td><td>null</td><td>&quot;decide_VERB&quot;</td><td>&quot;décider_VERB&quot;</td><td>&quot;qarXar_VERB&quot;</td><td>&quot;جزم&quot;</td><td>&quot;جزم&quot;</td><td>&quot;j a z a m&quot;</td><td>&quot;READY&quot;</td><td>null</td></tr><tr><td>31491</td><td>&quot;PRON_025&quot;</td><td>&quot;ClosedClass&quot;</td><td>&quot;you&quot;</td><td>&quot;vous&quot;</td><td>&quot;أَنْتُما&quot;</td><td>&quot;BEI&quot;</td><td>null</td><td>&quot;you_PRON&quot;</td><td>&quot;vous_PRON&quot;</td><td>&quot;OanotumA_PRON&quot;</td><td>&quot;انتو&quot;</td><td>&quot;انتو&quot;</td><td>&quot;2 i n t u&quot;</td><td>&quot;READY&quot;</td><td>null</td></tr><tr><td>19158</td><td>&quot;451&quot;</td><td>&quot;OpenClass&quot;</td><td>&quot;report&quot;</td><td>&quot;rapport&quot;</td><td>&quot;تَقْرِير&quot;</td><td>&quot;TUN&quot;</td><td>null</td><td>&quot;report_NOUN&quot;</td><td>&quot;rapport_NOUN&quot;</td><td>&quot;taqoriyr_NOUN&quot;</td><td>&quot;رابور&quot;</td><td>&quot;رابور&quot;</td><td>&quot;r a p oo r&quot;</td><td>&quot;CHECK&quot;</td><td>&quot;Foreign&quot;</td></tr><tr><td>27331</td><td>&quot;NUM_105&quot;</td><td>&quot;ClosedClass&quot;</td><td>&quot;nineteen&quot;</td><td>&quot;dix-neuf&quot;</td><td>&quot;تِسْعَة عَشَر&quot;</td><td>&quot;ALE&quot;</td><td>&quot;تسعة عشر ولدا&quot;</td><td>&quot;nineteen_NUM&quot;</td><td>&quot;dix-neuf_NUM&quot;</td><td>&quot;tisoE_NUM Eaca…</td><td>&quot;تسعتعش&quot;</td><td>&quot;تسعتعش&quot;</td><td>&quot;t. i s. a 3 t.…</td><td>&quot;READY&quot;</td><td>null</td></tr><tr><td>3200</td><td>&quot;95&quot;</td><td>&quot;OpenClass&quot;</td><td>&quot;tomorrow&quot;</td><td>&quot;demain , lende…</td><td>&quot;غَد&quot;</td><td>&quot;ASW&quot;</td><td>null</td><td>&quot;tomorrow_NOUN&quot;</td><td>&quot;demain_NOUN , …</td><td>&quot;gad_NOUN&quot;</td><td>&quot;بكرة&quot;</td><td>&quot;بكرة&quot;</td><td>&quot;b u k r a&quot;</td><td>&quot;READY&quot;</td><td>null</td></tr></tbody></table></div>"
      ],
      "text/plain": [
       "shape: (30, 16)\n",
       "┌───────┬────────────┬────────────┬────────────┬───┬───────────┬───────────┬───────────┬───────────┐\n",
       "│ ID    ┆ Concept_ID ┆ Class      ┆ English    ┆ … ┆ Tokenizat ┆ CAPHI     ┆ Release   ┆ Release   │\n",
       "│ ---   ┆ ---        ┆ ---        ┆ ---        ┆   ┆ ion       ┆ ---       ┆ Status    ┆ Note      │\n",
       "│ i64   ┆ str        ┆ str        ┆ str        ┆   ┆ ---       ┆ str       ┆ ---       ┆ ---       │\n",
       "│       ┆            ┆            ┆            ┆   ┆ str       ┆           ┆ str       ┆ str       │\n",
       "╞═══════╪════════════╪════════════╪════════════╪═══╪═══════════╪═══════════╪═══════════╪═══════════╡\n",
       "│ 15562 ┆ 379        ┆ OpenClass  ┆ mistake    ┆ … ┆ زلة       ┆ z a l l a ┆ READY     ┆ null      │\n",
       "│ 43284 ┆ 1230       ┆ OpenClass  ┆ right away ┆ … ┆ رأسا      ┆ r a 2 s a ┆ READY     ┆ null      │\n",
       "│       ┆            ┆            ┆            ┆   ┆           ┆ n         ┆           ┆           │\n",
       "│ 46090 ┆ 1294       ┆ OpenClass  ┆ miss       ┆ … ┆ آنسة      ┆ 2 aa n i  ┆ CHECK     ┆ null      │\n",
       "│       ┆            ┆            ┆            ┆   ┆           ┆ s a       ┆           ┆           │\n",
       "│ 355   ┆ 12         ┆ OpenClass  ┆ insurance  ┆ … ┆ تأمين     ┆ t a 2 m   ┆ READY     ┆ null      │\n",
       "│       ┆            ┆            ┆            ┆   ┆           ┆ ii n      ┆           ┆           │\n",
       "│ …     ┆ …          ┆ …          ┆ …          ┆ … ┆ …         ┆ …         ┆ …         ┆ …         │\n",
       "│ 31491 ┆ PRON_025   ┆ ClosedClas ┆ you        ┆ … ┆ انتو      ┆ 2 i n t u ┆ READY     ┆ null      │\n",
       "│       ┆            ┆ s          ┆            ┆   ┆           ┆           ┆           ┆           │\n",
       "│ 19158 ┆ 451        ┆ OpenClass  ┆ report     ┆ … ┆ رابور     ┆ r a p oo  ┆ CHECK     ┆ Foreign   │\n",
       "│       ┆            ┆            ┆            ┆   ┆           ┆ r         ┆           ┆           │\n",
       "│ 27331 ┆ NUM_105    ┆ ClosedClas ┆ nineteen   ┆ … ┆ تسعتعش    ┆ t. i s. a ┆ READY     ┆ null      │\n",
       "│       ┆            ┆ s          ┆            ┆   ┆           ┆ 3 t. a 3  ┆           ┆           │\n",
       "│       ┆            ┆            ┆            ┆   ┆           ┆ i sh      ┆           ┆           │\n",
       "│ 3200  ┆ 95         ┆ OpenClass  ┆ tomorrow   ┆ … ┆ بكرة      ┆ b u k r a ┆ READY     ┆ null      │\n",
       "└───────┴────────────┴────────────┴────────────┴───┴───────────┴───────────┴───────────┴───────────┘"
      ]
     },
     "execution_count": 16,
     "metadata": {},
     "output_type": "execute_result"
    }
   ],
   "source": [
    "frame_sample = frame.sample(30)"
   ]
  },
  {
   "cell_type": "code",
   "execution_count": 21,
   "metadata": {},
   "outputs": [
    {
     "name": "stderr",
     "output_type": "stream",
     "text": [
      "/var/folders/4s/lb1vnqls41q48r0glrfkkhnm0000gn/T/ipykernel_77723/3557112706.py:11: DeprecationWarning: `apply` is deprecated. It has been renamed to `map_elements`.\n",
      "  print(frame_sample['CODA'].apply(partial(compute_with_progress_bar, progress, compute_min_tokenization)))\n"
     ]
    }
   ],
   "source": [
    "from functools import partial\n",
    "from tqdm import tqdm\n",
    "\n",
    "frame_sample = frame.sample(1000)\n",
    "def compute_with_progress_bar(progress_bar, length_function, s):\n",
    "    length = length_function(s)\n",
    "    progress_bar.update(1)\n",
    "    return length\n",
    "\n",
    "progress = tqdm(total=len(frame_sample))\n",
    "print(frame_sample['CODA'].apply(partial(compute_with_progress_bar, progress, compute_min_tokenization)))\n",
    "# print(frame_sample['CODA'].apply(compute_default_tokenization_length).mean())"
   ]
  }
 ],
 "metadata": {
  "kernelspec": {
   "display_name": "mac_env",
   "language": "python",
   "name": "python3"
  },
  "language_info": {
   "codemirror_mode": {
    "name": "ipython",
    "version": 3
   },
   "file_extension": ".py",
   "mimetype": "text/x-python",
   "name": "python",
   "nbconvert_exporter": "python",
   "pygments_lexer": "ipython3",
   "version": "3.8.9"
  }
 },
 "nbformat": 4,
 "nbformat_minor": 2
}
